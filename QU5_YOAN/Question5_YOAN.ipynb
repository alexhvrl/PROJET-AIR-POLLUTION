{
 "cells": [
  {
   "cell_type": "code",
   "execution_count": null,
   "id": "b275035f",
   "metadata": {},
   "outputs": [],
   "source": [
    "subset_winter_CHA = PREC_CHA[0:80] + PREC_CHA[-10:]\n",
    "\n",
    "subset_summer_CHA = PREC_CHA[172+1:266]\n"
   ]
  }
 ],
 "metadata": {
  "language_info": {
   "name": "python"
  }
 },
 "nbformat": 4,
 "nbformat_minor": 5
}
