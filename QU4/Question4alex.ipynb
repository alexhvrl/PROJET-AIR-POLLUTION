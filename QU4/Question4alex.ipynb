{
 "cells": [
  {
   "cell_type": "code",
   "execution_count": 18,
   "metadata": {},
   "outputs": [],
   "source": [
    "import pandas as pd\n",
    "import numpy as np # type: ignore\n",
    "import random\n",
    "\n"
   ]
  },
  {
   "cell_type": "code",
   "execution_count": null,
   "metadata": {},
   "outputs": [
    {
     "name": "stdout",
     "output_type": "stream",
     "text": [
      "366\n",
      "366\n",
      "0.3677777777777778\n",
      "5.8901098901098905\n",
      "12.516129032258062\n",
      "3.435955056179775\n"
     ]
    }
   ],
   "source": [
    "#température mamène\n",
    "data_T = pd.read_csv('TEMP.csv')\n",
    "T_MAG = data_T['Magadino-Cadenazzo'].tolist()\n",
    "T_CHA = data_T['Chaumont'].tolist()\n",
    "\n",
    "# Découpe la liste en sous-listes de 24 éléments\n",
    "sublists = [T_CHA[i:i+24] for i in range(0, len(T_MAG), 24)]\n",
    "\n",
    "# Initialisation des listes pour les valeurs maximales et minimales\n",
    "max_values = []\n",
    "PREC_MAG = []\n",
    "\n",
    "# Parcours chaque sous-liste pour récupérer la valeur maximale et minimale\n",
    "for sublist in sublists:\n",
    "    max_values.append(max(sublist))\n",
    "    PREC_MAG.append(min(sublist))\n",
    "\n",
    "# Vérification de la longueur des listes résultantes\n",
    "print(len(max_values))  # Devrait être 366\n",
    "print(len(PREC_MAG))  # Devrait être 366\n",
    "\n",
    "\n",
    "subset_winter_CHA = PREC_MAG[0:80] + PREC_MAG[-10:]\n",
    "\n",
    "av_winter_CHA = sum(subset_winter_CHA)\n",
    "print(av_winter_CHA)\n",
    "av_spring_CHA = sum(PREC_MAG[80+1:172])\n",
    "print(av_spring_CHA)\n",
    "av_summer_CHA = sum(PREC_MAG[172+1:266])\n",
    "print(av_summer_CHA)\n",
    "av_autumn_CHA = sum(PREC_MAG[266+1:356])\n",
    "print(av_autumn_CHA)\n",
    "\n",
    "\n",
    "\n",
    "\n",
    "\n",
    "\n"
   ]
  },
  {
   "cell_type": "code",
   "execution_count": 37,
   "metadata": {},
   "outputs": [
    {
     "name": "stdout",
     "output_type": "stream",
     "text": [
      "275.70000000000005\n",
      "272.70000000000005\n",
      "285.59999999999997\n",
      "354.2\n"
     ]
    }
   ],
   "source": [
    "#précipitations\n",
    "\n",
    "data_PREC = pd.read_csv('PREC.csv')\n",
    "PREC_MAG = data_PREC['Magadino-Cadenazzo'].tolist()\n",
    "PREC_CHA = data_PREC['Chaumont'].tolist()\n",
    "\n",
    "\n",
    "\n",
    "subset_winter_CHA = PREC_CHA[0:80] + PREC_CHA[-10:]\n",
    "\n",
    "av_winter_CHA = sum(subset_winter_CHA)\n",
    "print(av_winter_CHA)\n",
    "av_spring_CHA = sum(PREC_CHA[80*+1:172])\n",
    "print(av_spring_CHA)\n",
    "av_summer_CHA = sum(PREC_CHA[172+1:266])\n",
    "print(av_summer_CHA)\n",
    "av_autumn_CHA = sum(PREC_CHA[266+1:356])\n",
    "print(av_autumn_CHA)"
   ]
  },
  {
   "cell_type": "code",
   "execution_count": null,
   "metadata": {},
   "outputs": [
    {
     "name": "stdout",
     "output_type": "stream",
     "text": [
      "CHAUMONT hiver - printemps - été - automne\n",
      "73.35\n",
      "180.97608695652173\n",
      "217.86666666666673\n",
      "72.4494382022472\n",
      "MAGAZZINO hiver - printemps - été - automne\n",
      "82.33777777777777\n",
      "182.77608695652177\n",
      "225.35161290322583\n",
      "78.25955056179774\n"
     ]
    }
   ],
   "source": [
    "#rayonnement\n",
    "\n",
    "data_RAD = pd.read_csv('RAD.csv')\n",
    "RAD_MAG = data_RAD['Magadino-Cadenazzo'].tolist()\n",
    "RAD_CHA = data_RAD['Chaumont'].tolist()\n",
    "\n",
    "subset_winter_CHA = RAD_CHA[0:80] + RAD_CHA[-10:]\n",
    "\n",
    "print(\"CHAUMONT hiver - printemps - été - automne\")\n",
    "\n",
    "av_winter_CHA = np.nanmean(subset_winter_CHA)\n",
    "print(av_winter_CHA)\n",
    "av_spring_CHA = np.nanmean(RAD_CHA[80*+1:172])\n",
    "print(av_spring_CHA)\n",
    "av_summer_CHA = np.nanmean(RAD_CHA[172+1:266])\n",
    "print(av_summer_CHA)\n",
    "av_autumn_CHA = np.nanmean(RAD_CHA[266+1:356])\n",
    "print(av_autumn_CHA)\n",
    "\n",
    "print(\"MAGAZZINO hiver - printemps - été - automne\")\n",
    "\n",
    "subset_winter_MAG = RAD_MAG[0:80] + RAD_MAG[-10:]\n",
    "\n",
    "av_winter_MAG = np.nanmean(subset_winter_MAG)\n",
    "print(av_winter_MAG)\n",
    "av_spring_MAG = np.nanmean(RAD_MAG[80*+1:172])\n",
    "print(av_spring_MAG)\n",
    "av_summer_MAG = np.nanmean(RAD_MAG[172+1:266])\n",
    "print(av_summer_MAG)\n",
    "av_autumn_MAG = np.nanmean(RAD_MAG[266+1:356])\n",
    "print(av_autumn_MAG)\n"
   ]
  }
 ],
 "metadata": {
  "kernelspec": {
   "display_name": "base",
   "language": "python",
   "name": "python3"
  },
  "language_info": {
   "codemirror_mode": {
    "name": "ipython",
    "version": 3
   },
   "file_extension": ".py",
   "mimetype": "text/x-python",
   "name": "python",
   "nbconvert_exporter": "python",
   "pygments_lexer": "ipython3",
   "version": "3.11.5"
  }
 },
 "nbformat": 4,
 "nbformat_minor": 2
}
