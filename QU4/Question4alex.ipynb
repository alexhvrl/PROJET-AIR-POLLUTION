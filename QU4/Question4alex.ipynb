{
 "cells": [
  {
   "cell_type": "code",
   "execution_count": 18,
   "metadata": {},
   "outputs": [],
   "source": [
    "import pandas as pd\n",
    "import numpy as np # type: ignore\n",
    "import random\n",
    "\n"
   ]
  },
  {
   "cell_type": "code",
   "execution_count": 23,
   "metadata": {},
   "outputs": [
    {
     "name": "stdout",
     "output_type": "stream",
     "text": [
      "366\n",
      "366\n",
      "0.3677777777777778\n",
      "5.8901098901098905\n",
      "12.516129032258062\n",
      "3.435955056179775\n"
     ]
    }
   ],
   "source": [
    "#température mamène\n",
    "data_T = pd.read_csv('TEMP.csv')\n",
    "T_MAG = data_T['Magadino-Cadenazzo'].tolist()\n",
    "T_CHA = data_T['Chaumont'].tolist()\n",
    "\n",
    "# Découpe la liste en sous-listes de 24 éléments\n",
    "sublists = [T_CHA[i:i+24] for i in range(0, len(T_MAG), 24)]\n",
    "\n",
    "# Initialisation des listes pour les valeurs maximales et minimales\n",
    "max_values = []\n",
    "min_values = []\n",
    "\n",
    "# Parcours chaque sous-liste pour récupérer la valeur maximale et minimale\n",
    "for sublist in sublists:\n",
    "    max_values.append(max(sublist))\n",
    "    min_values.append(min(sublist))\n",
    "\n",
    "# Vérification de la longueur des listes résultantes\n",
    "print(len(max_values))  # Devrait être 366\n",
    "print(len(min_values))  # Devrait être 366\n",
    "\n",
    "\n",
    "subset_winter_CHA = min_values[0:80] + min_values[-10:]\n",
    "\n",
    "av_winter_CHA = np.nanmean(subset_winter_CHA)\n",
    "print(av_winter_CHA)\n",
    "av_spring_CHA = np.nanmean(min_values[80+1:172])\n",
    "print(av_spring_CHA)\n",
    "av_summer_CHA = np.nanmean(min_values[172+1:266])\n",
    "print(av_summer_CHA)\n",
    "av_autumn_CHA = np.nanmean(min_values[266+1:356])\n",
    "print(av_autumn_CHA)\n",
    "\n",
    "\n",
    "\n",
    "\n",
    "\n",
    "\n"
   ]
  },
  {
   "cell_type": "code",
   "execution_count": null,
   "metadata": {},
   "outputs": [],
   "source": [
    "#précipitations\n",
    "\n"
   ]
  }
 ],
 "metadata": {
  "kernelspec": {
   "display_name": "base",
   "language": "python",
   "name": "python3"
  },
  "language_info": {
   "codemirror_mode": {
    "name": "ipython",
    "version": 3
   },
   "file_extension": ".py",
   "mimetype": "text/x-python",
   "name": "python",
   "nbconvert_exporter": "python",
   "pygments_lexer": "ipython3",
   "version": "3.11.5"
  }
 },
 "nbformat": 4,
 "nbformat_minor": 2
}
